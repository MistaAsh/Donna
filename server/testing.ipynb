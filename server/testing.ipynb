{
 "cells": [
  {
   "cell_type": "code",
   "execution_count": null,
   "metadata": {},
   "outputs": [],
   "source": [
    "from flask import Flask, request, jsonify\n",
    "import solcx  # Solidity compiler\n",
    "\n",
    "\n",
    "\n",
    "    # Compile Solidity code (this is a simplistic approach)\n",
    "    compiled_sol = solcx.compile_source(sol_code)\n",
    "    contract_data = compiled_sol['<standard-json-output>']\n",
    "\n",
    "    # Return the contract data\n",
    "    return jsonify(contract_data)\n",
    "\n",
    "if __name__ == '__main__':\n",
    "    app.run(debug=True)\n"
   ]
  }
 ],
 "metadata": {
  "language_info": {
   "name": "python"
  }
 },
 "nbformat": 4,
 "nbformat_minor": 2
}
