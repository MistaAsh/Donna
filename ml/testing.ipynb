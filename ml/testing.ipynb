{
 "cells": [
  {
   "cell_type": "code",
   "execution_count": 7,
   "metadata": {},
   "outputs": [
    {
     "data": {
      "text/plain": [
       "True"
      ]
     },
     "execution_count": 7,
     "metadata": {},
     "output_type": "execute_result"
    }
   ],
   "source": [
    "from dotenv import load_dotenv\n",
    "import os\n",
    "from airstack.execute_query import AirstackClient\n",
    "import json\n",
    "\n",
    "load_dotenv()"
   ]
  },
  {
   "cell_type": "code",
   "execution_count": 47,
   "metadata": {},
   "outputs": [],
   "source": [
    "AIRSTACK_API_KEY = os.environ.get(\"AIRSTACK_API_KEY\")\n",
    "api_client = AirstackClient(api_key=AIRSTACK_API_KEY)\n",
    "query =  \"\"\"\n",
    "query MyQuery($identity: Identity, $platform: SocialDappName)  {\n",
    "Socials(\n",
    "    input: {filter: {dappName: {_eq: $platform}, identity: {_eq: $identity}}, blockchain: ethereum}\n",
    ") {\n",
    "    Social {\n",
    "    followerCount\n",
    "    }\n",
    "}\n",
    "}\n",
    "\"\"\"\n",
    "\n",
    "variables = {'identity': 'lens', 'platform': 'vitalik.eth'}"
   ]
  },
  {
   "cell_type": "code",
   "execution_count": 48,
   "metadata": {},
   "outputs": [
    {
     "name": "stdout",
     "output_type": "stream",
     "text": [
      "error Unprocessable Entity\n",
      "data  null\n"
     ]
    }
   ],
   "source": [
    "execute_query_client = api_client.create_execute_query_object(query=query, variables=variables)\n",
    "query_response = await execute_query_client.execute_paginated_query()\n",
    "\n",
    "print(\"error\", query_response.error)\n",
    "print(\"data \", json.dumps(query_response.data))"
   ]
  },
  {
   "cell_type": "code",
   "execution_count": 36,
   "metadata": {},
   "outputs": [],
   "source": [
    "\n",
    "\n",
    "from web3 import Web3\n",
    "\n",
    "w3 = Web3(Web3.HTTPProvider('https://cloudflare-eth.com'))\n",
    "\n",
    "def get_account_balance(w3, account_address, token_address=None):\n",
    "    \"\"\"\n",
    "    Get the balance of the account in ETH or a specified ERC20 token.\n",
    "    \"\"\"\n",
    "    error, payload = False, {}\n",
    "    try:\n",
    "        if token_address:\n",
    "            with open('../middleware/abi/erc20.abi.json', 'r') as abi_file:\n",
    "                ERC20_ABI = json.load(abi_file)\n",
    "            # Create a contract instance for the ERC20 token\n",
    "            token_contract = w3.eth.contract(address=token_address, abi=ERC20_ABI)\n",
    "            # Get token balance\n",
    "            balance = token_contract.functions.balanceOf(account_address).call()\n",
    "            balance_symbol = token_contract.functions.symbol().call()  # To get the token symbol\n",
    "        else:\n",
    "            # Get ETH balance\n",
    "            balance = w3.eth.get_balance(account_address)\n",
    "            balance_symbol = 'ETH'\n",
    "\n",
    "        payload = {\"account_address\": account_address, \"balance\": balance, \"currency\": balance_symbol}\n",
    "\n",
    "    except Exception as e:\n",
    "        error = e\n",
    "        print(e)\n",
    "\n",
    "    return {\n",
    "        \"get_account_balance\": {\"error\": error, \"payload\": payload},\n",
    "    }\n"
   ]
  },
  {
   "cell_type": "code",
   "execution_count": 37,
   "metadata": {},
   "outputs": [
    {
     "data": {
      "text/plain": [
       "{'get_account_balance': {'error': False,\n",
       "  'payload': {'account_address': '0x099AFB2DA8713e91728d8AE8f5075c9A55E52d2f',\n",
       "   'balance': 0,\n",
       "   'currency': 'USDT'}}}"
      ]
     },
     "execution_count": 37,
     "metadata": {},
     "output_type": "execute_result"
    }
   ],
   "source": [
    "get_account_balance(w3,'0x099AFB2DA8713e91728d8AE8f5075c9A55E52d2f', '0xdAC17F958D2ee523a2206206994597C13D831ec7')"
   ]
  },
  {
   "cell_type": "code",
   "execution_count": null,
   "metadata": {},
   "outputs": [],
   "source": []
  }
 ],
 "metadata": {
  "kernelspec": {
   "display_name": "Python 3",
   "language": "python",
   "name": "python3"
  },
  "language_info": {
   "codemirror_mode": {
    "name": "ipython",
    "version": 3
   },
   "file_extension": ".py",
   "mimetype": "text/x-python",
   "name": "python",
   "nbconvert_exporter": "python",
   "pygments_lexer": "ipython3",
   "version": "3.10.8"
  },
  "orig_nbformat": 4
 },
 "nbformat": 4,
 "nbformat_minor": 2
}
